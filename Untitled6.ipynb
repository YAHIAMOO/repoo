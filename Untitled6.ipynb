{
 "cells": [
  {
   "cell_type": "code",
   "execution_count": 5,
   "id": "6cd92b80-ec27-4e2c-888b-0b068759e2e0",
   "metadata": {},
   "outputs": [
    {
     "name": "stdout",
     "output_type": "stream",
     "text": [
      "6\n",
      "7\n",
      "8\n"
     ]
    }
   ],
   "source": [
    "x = 5\n",
    "while(x<8):\n",
    "    x +=1\n",
    "    print(x)"
   ]
  },
  {
   "cell_type": "code",
   "execution_count": 7,
   "id": "4b1d4343-433c-4ae7-9528-ff87f9bb7952",
   "metadata": {},
   "outputs": [
    {
     "name": "stdout",
     "output_type": "stream",
     "text": [
      "6\n",
      "7\n",
      "8\n",
      "9\n",
      "10\n"
     ]
    }
   ],
   "source": [
    "x = 5\n",
    "while(x<10):\n",
    "    x += 1\n",
    "    print(x)"
   ]
  },
  {
   "cell_type": "code",
   "execution_count": 16,
   "id": "84045ed4-572d-42b8-be7a-b435e19c0de9",
   "metadata": {},
   "outputs": [],
   "source": [
    "import re\n",
    "def validat_password(password):\n",
    "    nam=input(\"write your name\")\n",
    "    password=input(\"write your password\")\n",
    "    id_=input(int(\"write you id\"))\n",
    "    if len (password)>=8:\n",
    "        return(\"the pass not comp\")\n",
    "    elif re.search (r\"[a-zA-Z]\",password):\n",
    "        return(\"complet\")\n",
    "    elif re.search (r\"\")"
   ]
  },
  {
   "cell_type": "code",
   "execution_count": null,
   "id": "8b407603-14fd-47cc-bc79-29079d569813",
   "metadata": {},
   "outputs": [],
   "source": []
  }
 ],
 "metadata": {
  "kernelspec": {
   "display_name": "Python 3 (ipykernel)",
   "language": "python",
   "name": "python3"
  },
  "language_info": {
   "codemirror_mode": {
    "name": "ipython",
    "version": 3
   },
   "file_extension": ".py",
   "mimetype": "text/x-python",
   "name": "python",
   "nbconvert_exporter": "python",
   "pygments_lexer": "ipython3",
   "version": "3.12.7"
  }
 },
 "nbformat": 4,
 "nbformat_minor": 5
}
